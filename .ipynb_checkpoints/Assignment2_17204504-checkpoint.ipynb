{
 "cells": [
  {
   "cell_type": "markdown",
   "metadata": {},
   "source": [
    "#### Scraping and pre-processing a corpus of news article from a set of web-pages and evaluating the performance of automated classification of these articles in a supervised learning context. "
   ]
  },
  {
   "cell_type": "markdown",
   "metadata": {},
   "source": [
    "## Part 1\n",
    "\n",
    "## Data Collection"
   ]
  },
  {
   "cell_type": "markdown",
   "metadata": {},
   "source": [
    "### Imports"
   ]
  },
  {
   "cell_type": "code",
   "execution_count": 5,
   "metadata": {},
   "outputs": [],
   "source": [
    "import numpy as np\n",
    "import pandas as pd\n",
    "import sklearn\n",
    "import nltk\n",
    "import scipy\n",
    "import requests\n",
    "from bs4 import BeautifulSoup\n",
    "import matplotlib.pyplot as plt\n",
    "%matplotlib inline\n",
    "import seaborn as sns"
   ]
  },
  {
   "cell_type": "markdown",
   "metadata": {},
   "source": [
    "### Retrieving the monthly news URL's from the website"
   ]
  },
  {
   "cell_type": "code",
   "execution_count": 26,
   "metadata": {},
   "outputs": [
    {
     "name": "stdout",
     "output_type": "stream",
     "text": [
      "['month-jan-2017.html', 'month-feb-2017.html', 'month-mar-2017.html', 'month-apr-2017.html', 'month-may-2017.html', 'month-jun-2017.html', 'month-jul-2017.html', 'month-aug-2017.html', 'month-sep-2017.html', 'month-oct-2017.html', 'month-nov-2017.html', 'month-dec-2017.html']\n"
     ]
    }
   ],
   "source": [
    "r  = requests.get(\"http://mlg.ucd.ie/modules/COMP41680/archive/index.html\")\n",
    "\n",
    "data = r.text\n",
    "\n",
    "soup = BeautifulSoup(data, \"lxml\")\n",
    "monthly_news = []\n",
    "\n",
    "lists = soup.find_all('li')\n",
    "    \n",
    "for link in lists:\n",
    "    monthly_news.append(link.find(\"a\").get('href'))\n",
    "\n",
    "print(monthly_news)"
   ]
  },
  {
   "cell_type": "markdown",
   "metadata": {},
   "source": [
    "### Retrieving news urls and category lables for each month"
   ]
  },
  {
   "cell_type": "code",
   "execution_count": 61,
   "metadata": {},
   "outputs": [
    {
     "name": "stdout",
     "output_type": "stream",
     "text": [
      " technology\n",
      "article-jan-0418.html\n",
      " business\n",
      "article-jan-0027.html\n",
      " technology\n",
      "article-jan-0631.html\n",
      " business\n",
      "article-jan-2105.html\n",
      " sport\n",
      "article-jan-3300.html\n",
      " sport\n",
      "article-jan-4187.html\n",
      " sport\n",
      "article-jan-1974.html\n",
      " sport\n",
      "article-jan-3666.html\n",
      " technology\n",
      "article-jan-2629.html\n",
      " technology\n",
      "article-jan-2415.html\n",
      " sport\n",
      "article-jan-4210.html\n",
      " business\n",
      "article-jan-4789.html\n",
      " business\n",
      "article-jan-3452.html\n",
      " technology\n",
      "article-jan-2428.html\n",
      " technology\n",
      "article-jan-4766.html\n",
      " technology\n",
      "article-jan-2595.html\n",
      " business\n",
      "article-jan-2935.html\n",
      " business\n",
      "article-jan-0578.html\n",
      " technology\n",
      "article-jan-3023.html\n",
      " sport\n",
      "article-jan-2356.html\n",
      " sport\n",
      "article-jan-1023.html\n",
      " business\n",
      "article-jan-0641.html\n",
      " sport\n",
      "article-jan-2461.html\n",
      " sport\n",
      "article-jan-4541.html\n",
      " sport\n",
      "article-jan-1259.html\n",
      " technology\n",
      "article-jan-4007.html\n",
      " business\n",
      "article-jan-4171.html\n",
      " technology\n",
      "article-jan-0272.html\n",
      " sport\n",
      "article-jan-4894.html\n",
      " business\n",
      "article-jan-4504.html\n",
      " technology\n",
      "article-jan-1740.html\n",
      " business\n",
      "article-jan-2390.html\n",
      " N/A\n"
     ]
    },
    {
     "ename": "AttributeError",
     "evalue": "'NoneType' object has no attribute 'get'",
     "output_type": "error",
     "traceback": [
      "\u001b[0;31m---------------------------------------------------------------------------\u001b[0m",
      "\u001b[0;31mAttributeError\u001b[0m                            Traceback (most recent call last)",
      "\u001b[0;32m<ipython-input-61-c4f622aee8fc>\u001b[0m in \u001b[0;36m<module>\u001b[0;34m()\u001b[0m\n\u001b[1;32m     20\u001b[0m         \u001b[0;32mif\u001b[0m\u001b[0;34m(\u001b[0m\u001b[0mcategory\u001b[0m \u001b[0;34m!=\u001b[0m \u001b[0;34m' N/A'\u001b[0m\u001b[0;34m)\u001b[0m\u001b[0;34m:\u001b[0m\u001b[0;34m\u001b[0m\u001b[0m\n\u001b[1;32m     21\u001b[0m             \u001b[0mnews_link\u001b[0m \u001b[0;34m=\u001b[0m \u001b[0mnews\u001b[0m\u001b[0;34m.\u001b[0m\u001b[0mfind\u001b[0m\u001b[0;34m(\u001b[0m\u001b[0;34m\"td\"\u001b[0m\u001b[0;34m,\u001b[0m \u001b[0;34m{\u001b[0m\u001b[0;34m\"class\"\u001b[0m\u001b[0;34m:\u001b[0m \u001b[0;34m\"title\"\u001b[0m\u001b[0;34m}\u001b[0m\u001b[0;34m)\u001b[0m\u001b[0;34m\u001b[0m\u001b[0m\n\u001b[0;32m---> 22\u001b[0;31m             \u001b[0mnews_href\u001b[0m \u001b[0;34m=\u001b[0m \u001b[0mnews_link\u001b[0m\u001b[0;34m.\u001b[0m\u001b[0mfind\u001b[0m\u001b[0;34m(\u001b[0m\u001b[0;34m\"a\"\u001b[0m\u001b[0;34m)\u001b[0m\u001b[0;34m.\u001b[0m\u001b[0mget\u001b[0m\u001b[0;34m(\u001b[0m\u001b[0;34m'href'\u001b[0m\u001b[0;34m)\u001b[0m\u001b[0;34m\u001b[0m\u001b[0m\n\u001b[0m\u001b[1;32m     23\u001b[0m             \u001b[0mprint\u001b[0m\u001b[0;34m(\u001b[0m\u001b[0mnews_href\u001b[0m\u001b[0;34m)\u001b[0m\u001b[0;34m\u001b[0m\u001b[0m\n\u001b[1;32m     24\u001b[0m \u001b[0;34m\u001b[0m\u001b[0m\n",
      "\u001b[0;31mAttributeError\u001b[0m: 'NoneType' object has no attribute 'get'"
     ]
    }
   ],
   "source": [
    "for month in monthly_news:\n",
    "    \n",
    "    r  = requests.get(\"http://mlg.ucd.ie/modules/COMP41680/archive/\" + month)\n",
    "\n",
    "    data = r.text\n",
    "\n",
    "    soup = BeautifulSoup(data, \"lxml\")\n",
    "    \n",
    "    articles = {} # Creating a dictionary to store articles based on their link\n",
    "    \n",
    "    news_list = soup.find('tbody').find_all('tr')\n",
    "\n",
    "    \n",
    "    for news in news_list:\n",
    "        category_td = news.find(\"td\", {\"class\": \"category\"})\n",
    "        category = category_td.text\n",
    "        \n",
    "        print(category)\n",
    "        \n",
    "        if !(category is 'N/A'):\n",
    "            news_link = news.find(\"td\", {\"class\": \"title\"})\n",
    "            news_href = news_link.find(\"a\").get('href')\n",
    "            print(news_href)\n",
    "\n",
    "        \n",
    "        \n",
    "        \n",
    "    "
   ]
  },
  {
   "cell_type": "code",
   "execution_count": null,
   "metadata": {
    "collapsed": true
   },
   "outputs": [],
   "source": []
  }
 ],
 "metadata": {
  "kernelspec": {
   "display_name": "Python 3",
   "language": "python",
   "name": "python3"
  },
  "language_info": {
   "codemirror_mode": {
    "name": "ipython",
    "version": 3
   },
   "file_extension": ".py",
   "mimetype": "text/x-python",
   "name": "python",
   "nbconvert_exporter": "python",
   "pygments_lexer": "ipython3",
   "version": "3.6.3"
  }
 },
 "nbformat": 4,
 "nbformat_minor": 2
}
